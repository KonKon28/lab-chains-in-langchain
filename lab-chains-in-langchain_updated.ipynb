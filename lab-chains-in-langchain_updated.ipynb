{
 "cells": [
  {
   "cell_type": "markdown",
   "id": "52824b89-532a-4e54-87e9-1410813cd39e",
   "metadata": {},
   "source": [
    "# Lab | Chains in LangChain\n",
    "\n",
    "## Outline\n",
    "\n",
    "* LLMChain\n",
    "* Sequential Chains\n",
    "  * SimpleSequentialChain\n",
    "  * SequentialChain\n",
    "* Router Chain"
   ]
  },
  {
   "cell_type": "code",
   "execution_count": null,
   "id": "d41e2c9a-67c6-4504-a767-6aa90ed32ac4",
   "metadata": {
    "execution": {
     "iopub.execute_input": "2024-10-20T22:28:49.642021Z",
     "iopub.status.busy": "2024-10-20T22:28:49.641137Z",
     "iopub.status.idle": "2024-10-20T22:29:00.390426Z",
     "shell.execute_reply": "2024-10-20T22:29:00.389295Z",
     "shell.execute_reply.started": "2024-10-20T22:28:49.641994Z"
    }
   },
   "outputs": [],
   "source": [
    "%pip install langchain"
   ]
  },
  {
   "cell_type": "code",
   "execution_count": null,
   "id": "7956a301-b007-43aa-86c4-0669718e6dad",
   "metadata": {
    "execution": {
     "iopub.execute_input": "2024-10-20T22:29:26.193112Z",
     "iopub.status.busy": "2024-10-20T22:29:26.192186Z",
     "iopub.status.idle": "2024-10-20T22:29:35.956110Z",
     "shell.execute_reply": "2024-10-20T22:29:35.955019Z",
     "shell.execute_reply.started": "2024-10-20T22:29:26.193060Z"
    }
   },
   "outputs": [],
   "source": [
    "%pip install langchain-openai"
   ]
  },
  {
   "cell_type": "code",
   "execution_count": 3,
   "id": "541eb2f1",
   "metadata": {
    "execution": {
     "iopub.execute_input": "2024-10-20T22:35:44.854143Z",
     "iopub.status.busy": "2024-10-20T22:35:44.853807Z",
     "iopub.status.idle": "2024-10-20T22:35:44.861396Z",
     "shell.execute_reply": "2024-10-20T22:35:44.860488Z",
     "shell.execute_reply.started": "2024-10-20T22:35:44.854117Z"
    }
   },
   "outputs": [],
   "source": [
    "import warnings\n",
    "warnings.filterwarnings('ignore')"
   ]
  },
  {
   "cell_type": "code",
   "execution_count": 4,
   "id": "b7ed03ed-1322-49e3-b2a2-33e94fb592ef",
   "metadata": {
    "execution": {
     "iopub.execute_input": "2024-10-20T22:37:55.378868Z",
     "iopub.status.busy": "2024-10-20T22:37:55.378458Z",
     "iopub.status.idle": "2024-10-20T22:37:55.392797Z",
     "shell.execute_reply": "2024-10-20T22:37:55.391968Z",
     "shell.execute_reply.started": "2024-10-20T22:37:55.378834Z"
    },
    "tags": []
   },
   "outputs": [],
   "source": [
    "import os\n",
    "\n",
    "from dotenv import load_dotenv, find_dotenv\n",
    "_ = load_dotenv(find_dotenv())\n",
    "\n",
    "OPENAI_API_KEY = os.getenv('OPENAI_API_KEY')\n",
    "HUGGINGFACEHUB_API_TOKEN = os.getenv('HUGGINGFACEHUB_API_TOKEN')"
   ]
  },
  {
   "cell_type": "code",
   "execution_count": 5,
   "id": "b84e441b",
   "metadata": {
    "tags": []
   },
   "outputs": [],
   "source": [
    "#!pip install pandas"
   ]
  },
  {
   "cell_type": "code",
   "execution_count": 1,
   "id": "974acf8e-8f88-42de-88f8-40a82cb58e8b",
   "metadata": {
    "execution": {
     "iopub.execute_input": "2024-10-20T22:38:56.389537Z",
     "iopub.status.busy": "2024-10-20T22:38:56.388979Z",
     "iopub.status.idle": "2024-10-20T22:38:56.401182Z",
     "shell.execute_reply": "2024-10-20T22:38:56.400337Z",
     "shell.execute_reply.started": "2024-10-20T22:38:56.389512Z"
    },
    "tags": []
   },
   "outputs": [],
   "source": [
    "import pandas as pd\n",
    "df = pd.read_csv('data/Data.csv')"
   ]
  },
  {
   "cell_type": "code",
   "execution_count": 2,
   "id": "b7a09c35",
   "metadata": {
    "execution": {
     "iopub.execute_input": "2024-10-20T22:39:00.534817Z",
     "iopub.status.busy": "2024-10-20T22:39:00.534265Z",
     "iopub.status.idle": "2024-10-20T22:39:00.552515Z",
     "shell.execute_reply": "2024-10-20T22:39:00.551476Z",
     "shell.execute_reply.started": "2024-10-20T22:39:00.534790Z"
    },
    "tags": []
   },
   "outputs": [
    {
     "data": {
      "text/html": [
       "<div>\n",
       "<style scoped>\n",
       "    .dataframe tbody tr th:only-of-type {\n",
       "        vertical-align: middle;\n",
       "    }\n",
       "\n",
       "    .dataframe tbody tr th {\n",
       "        vertical-align: top;\n",
       "    }\n",
       "\n",
       "    .dataframe thead th {\n",
       "        text-align: right;\n",
       "    }\n",
       "</style>\n",
       "<table border=\"1\" class=\"dataframe\">\n",
       "  <thead>\n",
       "    <tr style=\"text-align: right;\">\n",
       "      <th></th>\n",
       "      <th>Product</th>\n",
       "      <th>Review</th>\n",
       "    </tr>\n",
       "  </thead>\n",
       "  <tbody>\n",
       "    <tr>\n",
       "      <th>0</th>\n",
       "      <td>Queen Size Sheet Set</td>\n",
       "      <td>I ordered a king size set. My only criticism w...</td>\n",
       "    </tr>\n",
       "    <tr>\n",
       "      <th>1</th>\n",
       "      <td>Waterproof Phone Pouch</td>\n",
       "      <td>I loved the waterproof sac, although the openi...</td>\n",
       "    </tr>\n",
       "    <tr>\n",
       "      <th>2</th>\n",
       "      <td>Luxury Air Mattress</td>\n",
       "      <td>This mattress had a small hole in the top of i...</td>\n",
       "    </tr>\n",
       "    <tr>\n",
       "      <th>3</th>\n",
       "      <td>Pillows Insert</td>\n",
       "      <td>This is the best throw pillow fillers on Amazo...</td>\n",
       "    </tr>\n",
       "    <tr>\n",
       "      <th>4</th>\n",
       "      <td>Milk Frother Handheld\\r\\n</td>\n",
       "      <td>I loved this product. But they only seem to l...</td>\n",
       "    </tr>\n",
       "  </tbody>\n",
       "</table>\n",
       "</div>"
      ],
      "text/plain": [
       "                     Product  \\\n",
       "0       Queen Size Sheet Set   \n",
       "1     Waterproof Phone Pouch   \n",
       "2        Luxury Air Mattress   \n",
       "3             Pillows Insert   \n",
       "4  Milk Frother Handheld\\r\\n   \n",
       "\n",
       "                                              Review  \n",
       "0  I ordered a king size set. My only criticism w...  \n",
       "1  I loved the waterproof sac, although the openi...  \n",
       "2  This mattress had a small hole in the top of i...  \n",
       "3  This is the best throw pillow fillers on Amazo...  \n",
       "4   I loved this product. But they only seem to l...  "
      ]
     },
     "execution_count": 2,
     "metadata": {},
     "output_type": "execute_result"
    }
   ],
   "source": [
    "df.head()"
   ]
  },
  {
   "cell_type": "markdown",
   "id": "b940ce7c",
   "metadata": {},
   "source": [
    "## LLMChain"
   ]
  },
  {
   "cell_type": "code",
   "execution_count": 3,
   "id": "e92dff22",
   "metadata": {
    "execution": {
     "iopub.execute_input": "2024-10-20T22:39:05.197342Z",
     "iopub.status.busy": "2024-10-20T22:39:05.197021Z",
     "iopub.status.idle": "2024-10-20T22:39:06.575826Z",
     "shell.execute_reply": "2024-10-20T22:39:06.574921Z",
     "shell.execute_reply.started": "2024-10-20T22:39:05.197315Z"
    },
    "tags": []
   },
   "outputs": [],
   "source": [
    "from langchain_openai import ChatOpenAI\n",
    "from langchain.prompts import ChatPromptTemplate\n",
    "from langchain.chains import LLMChain"
   ]
  },
  {
   "cell_type": "code",
   "execution_count": 4,
   "id": "943237a7",
   "metadata": {
    "execution": {
     "iopub.execute_input": "2024-10-20T22:39:36.387887Z",
     "iopub.status.busy": "2024-10-20T22:39:36.387019Z",
     "iopub.status.idle": "2024-10-20T22:39:36.588545Z",
     "shell.execute_reply": "2024-10-20T22:39:36.587753Z",
     "shell.execute_reply.started": "2024-10-20T22:39:36.387847Z"
    }
   },
   "outputs": [],
   "source": [
    "#Replace None by your own value and justify\n",
    "llm = ChatOpenAI(temperature=0.2)\n"
   ]
  },
  {
   "cell_type": "code",
   "execution_count": 5,
   "id": "cdcdb42d",
   "metadata": {
    "execution": {
     "iopub.execute_input": "2024-10-20T22:45:07.865966Z",
     "iopub.status.busy": "2024-10-20T22:45:07.865684Z",
     "iopub.status.idle": "2024-10-20T22:45:07.870091Z",
     "shell.execute_reply": "2024-10-20T22:45:07.869041Z",
     "shell.execute_reply.started": "2024-10-20T22:45:07.865943Z"
    }
   },
   "outputs": [],
   "source": [
    "prompt = ChatPromptTemplate.from_template(  \"Write a funny product description for {product}. \"\n",
    "    \"Highlight its key features and benefits. Be short and concise\"\n",
    ")"
   ]
  },
  {
   "cell_type": "code",
   "execution_count": 6,
   "id": "d7abc20b",
   "metadata": {
    "execution": {
     "iopub.execute_input": "2024-10-20T22:45:10.586239Z",
     "iopub.status.busy": "2024-10-20T22:45:10.585938Z",
     "iopub.status.idle": "2024-10-20T22:45:10.590697Z",
     "shell.execute_reply": "2024-10-20T22:45:10.589707Z",
     "shell.execute_reply.started": "2024-10-20T22:45:10.586215Z"
    }
   },
   "outputs": [],
   "source": [
    "# old code \n",
    "#chain = LLMChain(llm=llm, prompt=prompt)\n",
    "#correct code\n",
    "chain = prompt | llm\n"
   ]
  },
  {
   "cell_type": "code",
   "execution_count": 8,
   "id": "ad44d1fb",
   "metadata": {
    "execution": {
     "iopub.execute_input": "2024-10-20T22:45:13.559302Z",
     "iopub.status.busy": "2024-10-20T22:45:13.558982Z",
     "iopub.status.idle": "2024-10-20T22:45:14.614766Z",
     "shell.execute_reply": "2024-10-20T22:45:14.614006Z",
     "shell.execute_reply.started": "2024-10-20T22:45:13.559277Z"
    }
   },
   "outputs": [
    {
     "data": {
      "text/plain": [
       "AIMessage(content='Introducing Robber Dicks - the perfect tool for all your thieving needs! With their discreet design and adjustable length, these dicks are sure to help you snatch and grab with ease. Say goodbye to clumsy hands and hello to smooth, efficient stealing. Get your hands on Robber Dicks today and start swiping in style!', additional_kwargs={'refusal': None}, response_metadata={'token_usage': {'completion_tokens': 67, 'prompt_tokens': 28, 'total_tokens': 95, 'completion_tokens_details': {'audio_tokens': None, 'reasoning_tokens': 0}, 'prompt_tokens_details': {'audio_tokens': None, 'cached_tokens': 0}}, 'model_name': 'gpt-3.5-turbo-0125', 'system_fingerprint': None, 'finish_reason': 'stop', 'logprobs': None}, id='run-e70b8d5b-968d-4505-b29d-df6432eef2e8-0', usage_metadata={'input_tokens': 28, 'output_tokens': 67, 'total_tokens': 95, 'input_token_details': {'cache_read': 0}, 'output_token_details': {'reasoning': 0}})"
      ]
     },
     "execution_count": 8,
     "metadata": {},
     "output_type": "execute_result"
    }
   ],
   "source": [
    "product = \"Rubber decks\"\n",
    "chain.invoke(product)"
   ]
  },
  {
   "cell_type": "markdown",
   "id": "69b03469",
   "metadata": {},
   "source": [
    "## SimpleSequentialChain"
   ]
  },
  {
   "cell_type": "code",
   "execution_count": 9,
   "id": "febee243",
   "metadata": {
    "execution": {
     "iopub.execute_input": "2024-10-20T22:47:39.897018Z",
     "iopub.status.busy": "2024-10-20T22:47:39.896687Z",
     "iopub.status.idle": "2024-10-20T22:47:39.901697Z",
     "shell.execute_reply": "2024-10-20T22:47:39.900690Z",
     "shell.execute_reply.started": "2024-10-20T22:47:39.896994Z"
    }
   },
   "outputs": [],
   "source": [
    "from langchain.chains import SimpleSequentialChain"
   ]
  },
  {
   "cell_type": "code",
   "execution_count": 10,
   "id": "2f31aa8a",
   "metadata": {
    "execution": {
     "iopub.execute_input": "2024-10-20T22:47:40.523137Z",
     "iopub.status.busy": "2024-10-20T22:47:40.522694Z",
     "iopub.status.idle": "2024-10-20T22:47:40.693164Z",
     "shell.execute_reply": "2024-10-20T22:47:40.692196Z",
     "shell.execute_reply.started": "2024-10-20T22:47:40.523102Z"
    }
   },
   "outputs": [
    {
     "name": "stderr",
     "output_type": "stream",
     "text": [
      "C:\\Users\\diego\\AppData\\Local\\Temp\\ipykernel_43164\\1498939052.py:10: LangChainDeprecationWarning: The class `LLMChain` was deprecated in LangChain 0.1.17 and will be removed in 1.0. Use :meth:`~RunnableSequence, e.g., `prompt | llm`` instead.\n",
      "  chain_one = LLMChain(llm=llm, prompt=first_prompt)\n"
     ]
    }
   ],
   "source": [
    "llm = ChatOpenAI(temperature=0.9)\n",
    "\n",
    "# prompt template 1\n",
    "first_prompt = ChatPromptTemplate.from_template(\n",
    "\"Write a funny product description for {product}. \"\n",
    "    \"Highlight its key features and benefits. Be short and concise\"\n",
    ")\n",
    "\n",
    "# Chain 1\n",
    "chain_one = LLMChain(llm=llm, prompt=first_prompt)"
   ]
  },
  {
   "cell_type": "code",
   "execution_count": 34,
   "id": "3f5d5b76",
   "metadata": {
    "execution": {
     "iopub.execute_input": "2024-10-20T22:48:19.771576Z",
     "iopub.status.busy": "2024-10-20T22:48:19.771176Z",
     "iopub.status.idle": "2024-10-20T22:48:19.777416Z",
     "shell.execute_reply": "2024-10-20T22:48:19.776207Z",
     "shell.execute_reply.started": "2024-10-20T22:48:19.771542Z"
    }
   },
   "outputs": [],
   "source": [
    "\n",
    "# prompt template 2\n",
    "second_prompt = ChatPromptTemplate.from_template(\n",
    "    \"Based on the review {review}, rate the quality of this product from zero to ten.\"\n",
    ")\n",
    "# chain 2\n",
    "chain_two = LLMChain(llm=llm, prompt=second_prompt)"
   ]
  },
  {
   "cell_type": "code",
   "execution_count": 35,
   "id": "6c1eb2c4",
   "metadata": {
    "execution": {
     "iopub.execute_input": "2024-10-20T22:48:22.017720Z",
     "iopub.status.busy": "2024-10-20T22:48:22.017368Z",
     "iopub.status.idle": "2024-10-20T22:48:22.022565Z",
     "shell.execute_reply": "2024-10-20T22:48:22.021474Z",
     "shell.execute_reply.started": "2024-10-20T22:48:22.017696Z"
    }
   },
   "outputs": [],
   "source": [
    "overall_simple_chain = SimpleSequentialChain(chains=[chain_one, chain_two],\n",
    "                                             verbose=True\n",
    "                                            )"
   ]
  },
  {
   "cell_type": "code",
   "execution_count": null,
   "id": "78458efe",
   "metadata": {
    "execution": {
     "iopub.execute_input": "2024-10-20T22:48:24.745918Z",
     "iopub.status.busy": "2024-10-20T22:48:24.745573Z"
    }
   },
   "outputs": [
    {
     "name": "stdout",
     "output_type": "stream",
     "text": [
      "\n",
      "\n",
      "\u001b[1m> Entering new SimpleSequentialChain chain...\u001b[0m\n",
      "\u001b[36;1m\u001b[1;3mIntroducing the ultimate bath time companion - the Rubber Duck! This adorable little quacker is guaranteed to bring a smile to your face as you soak and relax in the tub. With its waterproof design and durable construction, this duck is built to last through many bubbly adventures. So say goodbye to boring baths and add some quack-tion to your routine with the Rubber Duck!\u001b[0m\n",
      "\u001b[33;1m\u001b[1;3mI would rate the quality of the Rubber Duck as a 9 out of 10. It is durable, waterproof, and guaranteed to bring joy to your bath time experience.\u001b[0m\n",
      "\n",
      "\u001b[1m> Finished chain.\u001b[0m\n"
     ]
    },
    {
     "data": {
      "text/plain": [
       "{'input': 'Rubber ducks',\n",
       " 'output': 'I would rate the quality of the Rubber Duck as a 9 out of 10. It is durable, waterproof, and guaranteed to bring joy to your bath time experience.'}"
      ]
     },
     "execution_count": 36,
     "metadata": {},
     "output_type": "execute_result"
    }
   ],
   "source": [
    "overall_simple_chain.invoke(product)"
   ]
  },
  {
   "cell_type": "markdown",
   "id": "0dd59bda-9d02-44e7-b3d6-2bec61b99d8f",
   "metadata": {},
   "source": [
    "**Repeat the above twice for different products**"
   ]
  },
  {
   "cell_type": "markdown",
   "id": "7b5ce18c",
   "metadata": {},
   "source": [
    "## SequentialChain"
   ]
  },
  {
   "cell_type": "code",
   "execution_count": 55,
   "id": "4c129ef6",
   "metadata": {
    "execution": {
     "iopub.execute_input": "2024-10-20T22:59:00.102034Z",
     "iopub.status.busy": "2024-10-20T22:59:00.101450Z",
     "iopub.status.idle": "2024-10-20T22:59:00.106271Z",
     "shell.execute_reply": "2024-10-20T22:59:00.105192Z",
     "shell.execute_reply.started": "2024-10-20T22:59:00.102008Z"
    }
   },
   "outputs": [],
   "source": [
    "from langchain.chains import SequentialChain"
   ]
  },
  {
   "cell_type": "code",
   "execution_count": 56,
   "id": "016187ac",
   "metadata": {
    "execution": {
     "iopub.execute_input": "2024-10-20T22:59:01.225262Z",
     "iopub.status.busy": "2024-10-20T22:59:01.224721Z",
     "iopub.status.idle": "2024-10-20T22:59:01.399724Z",
     "shell.execute_reply": "2024-10-20T22:59:01.398997Z",
     "shell.execute_reply.started": "2024-10-20T22:59:01.225239Z"
    }
   },
   "outputs": [],
   "source": [
    "llm = ChatOpenAI(temperature=0.9)\n",
    "\n",
    "\n",
    "first_prompt = ChatPromptTemplate.from_template(\n",
    "  \"Translate this {review} into french. \"\n",
    ")\n",
    "\n",
    "chain_one = LLMChain(llm=llm, prompt=first_prompt, \n",
    "                     output_key='fr_review' #Give a name to your output\n",
    "                    )\n"
   ]
  },
  {
   "cell_type": "code",
   "execution_count": 57,
   "id": "0fb0730e",
   "metadata": {
    "execution": {
     "iopub.execute_input": "2024-10-20T22:59:03.347186Z",
     "iopub.status.busy": "2024-10-20T22:59:03.346763Z",
     "iopub.status.idle": "2024-10-20T22:59:03.352694Z",
     "shell.execute_reply": "2024-10-20T22:59:03.351478Z",
     "shell.execute_reply.started": "2024-10-20T22:59:03.347153Z"
    }
   },
   "outputs": [],
   "source": [
    "second_prompt = ChatPromptTemplate.from_template(\n",
    "    'Based on {fr_review}, summarize this review in less than 10 words in french.'\n",
    ")\n",
    "\n",
    "chain_two = LLMChain(llm=llm, prompt=second_prompt, \n",
    "                     output_key='fr_short_review' #give a name to this output\n",
    "                    )\n"
   ]
  },
  {
   "cell_type": "code",
   "execution_count": 58,
   "id": "6accf92d",
   "metadata": {
    "execution": {
     "iopub.execute_input": "2024-10-20T22:59:04.881245Z",
     "iopub.status.busy": "2024-10-20T22:59:04.880858Z",
     "iopub.status.idle": "2024-10-20T22:59:04.885801Z",
     "shell.execute_reply": "2024-10-20T22:59:04.884994Z",
     "shell.execute_reply.started": "2024-10-20T22:59:04.881206Z"
    }
   },
   "outputs": [],
   "source": [
    "# prompt template 3: translate to english or other language\n",
    "third_prompt = ChatPromptTemplate.from_template(\n",
    "    \"Translate {fr_short_review} into english\"\n",
    ")\n",
    "# chain 3: input= Review and output= language\n",
    "chain_three = LLMChain(llm=llm, prompt=third_prompt,\n",
    "                       output_key='en_short_review'\n",
    "                      )\n"
   ]
  },
  {
   "cell_type": "code",
   "execution_count": 59,
   "id": "c7a46121",
   "metadata": {
    "execution": {
     "iopub.execute_input": "2024-10-20T22:59:07.332722Z",
     "iopub.status.busy": "2024-10-20T22:59:07.332375Z",
     "iopub.status.idle": "2024-10-20T22:59:07.337786Z",
     "shell.execute_reply": "2024-10-20T22:59:07.336850Z",
     "shell.execute_reply.started": "2024-10-20T22:59:07.332675Z"
    }
   },
   "outputs": [],
   "source": [
    "\n",
    "# prompt template 4: follow up message that take as inputs the two previous prompts' variables\n",
    "fourth_prompt = ChatPromptTemplate.from_template(\n",
    "\"Rate the quality of the translation of {fr_short_review} into {en_short_review} from zero to ten.\"\n",
    ")\n",
    "chain_four = LLMChain(llm=llm, prompt=fourth_prompt,\n",
    "                      output_key='rating'\n",
    "                     )\n"
   ]
  },
  {
   "cell_type": "code",
   "execution_count": 62,
   "id": "89603117",
   "metadata": {
    "execution": {
     "iopub.execute_input": "2024-10-20T22:59:29.438358Z",
     "iopub.status.busy": "2024-10-20T22:59:29.437631Z",
     "iopub.status.idle": "2024-10-20T22:59:29.442928Z",
     "shell.execute_reply": "2024-10-20T22:59:29.441898Z",
     "shell.execute_reply.started": "2024-10-20T22:59:29.438332Z"
    }
   },
   "outputs": [],
   "source": [
    "# overall_chain: input= Review \n",
    "# and output= English_Review,summary, followup_message\n",
    "overall_chain = SequentialChain(\n",
    "    chains=[chain_one, chain_two, chain_three, chain_four],\n",
    "    input_variables=[\"review\"],\n",
    "    output_variables=['fr_short_review','en_short_review', 'rating'],\n",
    "    verbose=True\n",
    ")"
   ]
  },
  {
   "cell_type": "code",
   "execution_count": 64,
   "id": "51b04f45",
   "metadata": {
    "execution": {
     "iopub.execute_input": "2024-10-20T22:59:43.748948Z",
     "iopub.status.busy": "2024-10-20T22:59:43.747928Z",
     "iopub.status.idle": "2024-10-20T22:59:46.074236Z",
     "shell.execute_reply": "2024-10-20T22:59:46.073353Z",
     "shell.execute_reply.started": "2024-10-20T22:59:43.748909Z"
    }
   },
   "outputs": [
    {
     "name": "stdout",
     "output_type": "stream",
     "text": [
      "\n",
      "\n",
      "\u001b[1m> Entering new SequentialChain chain...\u001b[0m\n",
      "\n",
      "\u001b[1m> Finished chain.\u001b[0m\n"
     ]
    },
    {
     "data": {
      "text/plain": [
       "{'review': \"Je trouve le goût médiocre. La mousse ne tient pas, c'est bizarre. J'achète les mêmes dans le commerce et le goût est bien meilleur...\\nVieux lot ou contrefaçon !?\",\n",
       " 'fr_short_review': 'Goût moyen, mousse qui ne tient pas, peut-être contrefaçon.',\n",
       " 'en_short_review': 'Average taste, foam that does not hold, may be counterfeit.',\n",
       " 'rating': 'I would rate the quality of the translation a 9 out of 10. It accurately captures the meaning of the original phrase and conveys it clearly in English. The only potential improvement could be in finding a more precise translation for \"Goût moyen\" which could convey the idea of average taste more effectively.'}"
      ]
     },
     "execution_count": 64,
     "metadata": {},
     "output_type": "execute_result"
    }
   ],
   "source": [
    "review = df.Review[5]\n",
    "overall_chain.invoke(review)"
   ]
  },
  {
   "cell_type": "markdown",
   "id": "3187cf07-458a-4226-bec7-3dec7ee47af2",
   "metadata": {},
   "source": [
    "**Repeat the above twice for different products or reviews**"
   ]
  },
  {
   "cell_type": "markdown",
   "id": "3041ea4c",
   "metadata": {},
   "source": [
    "## Router Chain"
   ]
  },
  {
   "cell_type": "code",
   "execution_count": 66,
   "id": "ade83f4f",
   "metadata": {
    "execution": {
     "iopub.execute_input": "2024-10-20T23:00:34.863350Z",
     "iopub.status.busy": "2024-10-20T23:00:34.863025Z",
     "iopub.status.idle": "2024-10-20T23:00:34.868670Z",
     "shell.execute_reply": "2024-10-20T23:00:34.867729Z",
     "shell.execute_reply.started": "2024-10-20T23:00:34.863325Z"
    }
   },
   "outputs": [],
   "source": [
    "physics_template = \"\"\"You are a very smart physics professor. \\\n",
    "You are great at answering questions about physics in a concise\\\n",
    "and easy to understand manner. \\\n",
    "When you don't know the answer to a question you admit\\\n",
    "that you don't know.\n",
    "\n",
    "Here is a question:\n",
    "{input}\"\"\"\n",
    "\n",
    "\n",
    "math_template = \"\"\"You are a very good mathematician. \\\n",
    "You are great at answering math questions. \\\n",
    "You are so good because you are able to break down \\\n",
    "hard problems into their component parts, \n",
    "answer the component parts, and then put them together\\\n",
    "to answer the broader question.\n",
    "\n",
    "Here is a question:\n",
    "{input}\"\"\"\n",
    "\n",
    "history_template = \"\"\"You are a very good historian. \\\n",
    "You have an excellent knowledge of and understanding of people,\\\n",
    "events and contexts from a range of historical periods. \\\n",
    "You have the ability to think, reflect, debate, discuss and \\\n",
    "evaluate the past. You have a respect for historical evidence\\\n",
    "and the ability to make use of it to support your explanations \\\n",
    "and judgements.\n",
    "\n",
    "Here is a question:\n",
    "{input}\"\"\"\n",
    "\n",
    "\n",
    "computerscience_template = \"\"\" You are a successful computer scientist.\\\n",
    "You have a passion for creativity, collaboration,\\\n",
    "forward-thinking, confidence, strong problem-solving capabilities,\\\n",
    "understanding of theories and algorithms, and excellent communication \\\n",
    "skills. You are great at answering coding questions. \\\n",
    "You are so good because you know how to solve a problem by \\\n",
    "describing the solution in imperative steps \\\n",
    "that a machine can easily interpret and you know how to \\\n",
    "choose a solution that has a good balance between \\\n",
    "time complexity and space complexity. \n",
    "\n",
    "Here is a question:\n",
    "{input}\"\"\""
   ]
  },
  {
   "cell_type": "code",
   "execution_count": 79,
   "id": "5f590e9f",
   "metadata": {
    "execution": {
     "iopub.execute_input": "2024-10-20T23:07:10.154175Z",
     "iopub.status.busy": "2024-10-20T23:07:10.153352Z",
     "iopub.status.idle": "2024-10-20T23:07:10.160181Z",
     "shell.execute_reply": "2024-10-20T23:07:10.159147Z",
     "shell.execute_reply.started": "2024-10-20T23:07:10.154149Z"
    }
   },
   "outputs": [],
   "source": [
    "prompt_infos = [\n",
    "    {\n",
    "        \"name\": \"physics\", \n",
    "        \"description\": \"Good for answering questions about physics\", \n",
    "        \"prompt_template\": physics_template\n",
    "    },\n",
    "    {\n",
    "        \"name\": \"math\", \n",
    "        \"description\": \"Good for answering math questions\", \n",
    "        \"prompt_template\": math_template\n",
    "    },\n",
    "    {\n",
    "        \"name\": \"History\", \n",
    "        \"description\": \"Good for answering history questions\", \n",
    "        \"prompt_template\": history_template\n",
    "    },\n",
    "    {\n",
    "        \"name\": \"computer science\", \n",
    "        \"description\": \"Good for answering computer science questions\", \n",
    "        \"prompt_template\": computerscience_template\n",
    "    }\n",
    "]\n",
    "\n",
    "prompt_templates = {\n",
    "    info[\"name\"]: ChatPromptTemplate.from_template(info[\"prompt_template\"])\n",
    "    for info in prompt_infos\n",
    "}\n"
   ]
  },
  {
   "cell_type": "code",
   "execution_count": 80,
   "id": "31b06fc8",
   "metadata": {
    "execution": {
     "iopub.execute_input": "2024-10-20T23:07:12.860777Z",
     "iopub.status.busy": "2024-10-20T23:07:12.860475Z",
     "iopub.status.idle": "2024-10-20T23:07:12.864920Z",
     "shell.execute_reply": "2024-10-20T23:07:12.864063Z",
     "shell.execute_reply.started": "2024-10-20T23:07:12.860753Z"
    }
   },
   "outputs": [],
   "source": [
    "from langchain.chains.router import MultiPromptChain\n",
    "from langchain.chains.router.llm_router import LLMRouterChain,RouterOutputParser\n",
    "from langchain.prompts import PromptTemplate"
   ]
  },
  {
   "cell_type": "code",
   "execution_count": 81,
   "id": "f3f50bcc",
   "metadata": {
    "execution": {
     "iopub.execute_input": "2024-10-20T23:07:15.346148Z",
     "iopub.status.busy": "2024-10-20T23:07:15.345114Z",
     "iopub.status.idle": "2024-10-20T23:07:15.530878Z",
     "shell.execute_reply": "2024-10-20T23:07:15.529792Z",
     "shell.execute_reply.started": "2024-10-20T23:07:15.346109Z"
    }
   },
   "outputs": [],
   "source": [
    "llm = ChatOpenAI(temperature=0)"
   ]
  },
  {
   "cell_type": "code",
   "execution_count": 82,
   "id": "8eefec24",
   "metadata": {
    "execution": {
     "iopub.execute_input": "2024-10-20T23:07:16.553928Z",
     "iopub.status.busy": "2024-10-20T23:07:16.553623Z",
     "iopub.status.idle": "2024-10-20T23:07:16.560841Z",
     "shell.execute_reply": "2024-10-20T23:07:16.559512Z",
     "shell.execute_reply.started": "2024-10-20T23:07:16.553904Z"
    }
   },
   "outputs": [],
   "source": [
    "destination_chains = {}\n",
    "for p_info in prompt_infos:\n",
    "    name = p_info[\"name\"]\n",
    "    prompt_template = p_info[\"prompt_template\"]\n",
    "    prompt = ChatPromptTemplate.from_template(template=prompt_template)\n",
    "    chain = LLMChain(llm=llm, prompt=prompt)\n",
    "    destination_chains[name] = chain  \n",
    "    \n",
    "destinations = [f\"{p['name']}: {p['description']}\" for p in prompt_infos]\n",
    "destinations_str = \"\\n\".join(destinations)"
   ]
  },
  {
   "cell_type": "code",
   "execution_count": 83,
   "id": "9f98018a",
   "metadata": {
    "execution": {
     "iopub.execute_input": "2024-10-20T23:07:19.007495Z",
     "iopub.status.busy": "2024-10-20T23:07:19.006748Z",
     "iopub.status.idle": "2024-10-20T23:07:19.012950Z",
     "shell.execute_reply": "2024-10-20T23:07:19.011604Z",
     "shell.execute_reply.started": "2024-10-20T23:07:19.007461Z"
    }
   },
   "outputs": [],
   "source": [
    "default_prompt = ChatPromptTemplate.from_template(\"{input}\")\n",
    "default_chain = LLMChain(llm=llm, prompt=default_prompt)"
   ]
  },
  {
   "cell_type": "code",
   "execution_count": 84,
   "id": "11b2e2ba",
   "metadata": {
    "execution": {
     "iopub.execute_input": "2024-10-20T23:07:20.161097Z",
     "iopub.status.busy": "2024-10-20T23:07:20.160678Z",
     "iopub.status.idle": "2024-10-20T23:07:20.167808Z",
     "shell.execute_reply": "2024-10-20T23:07:20.166363Z",
     "shell.execute_reply.started": "2024-10-20T23:07:20.161063Z"
    }
   },
   "outputs": [],
   "source": [
    "MULTI_PROMPT_ROUTER_TEMPLATE = \"\"\"Given a raw text input to a \\\n",
    "language model select the model prompt best suited for the input. \\\n",
    "You will be given the names of the available prompts and a \\\n",
    "description of what the prompt is best suited for. \\\n",
    "You may also revise the original input if you think that revising\\\n",
    "it will ultimately lead to a better response from the language model.\n",
    "\n",
    "<< FORMATTING >>\n",
    "Return a markdown code snippet with a JSON object formatted to look like:\n",
    "```json\n",
    "{{{{\n",
    "    \"destination\": string \\ name of the prompt to use or \"DEFAULT\"\n",
    "    \"next_inputs\": string \\ a potentially modified version of the original input\n",
    "}}}}\n",
    "```\n",
    "\n",
    "REMEMBER: \"destination\" MUST be one of the candidate prompt \\\n",
    "names specified below OR it can be \"DEFAULT\" if the input is not\\\n",
    "well suited for any of the candidate prompts.\n",
    "REMEMBER: \"next_inputs\" can just be the original input \\\n",
    "if you don't think any modifications are needed.\n",
    "\n",
    "<< CANDIDATE PROMPTS >>\n",
    "{destinations}\n",
    "\n",
    "<< INPUT >>\n",
    "{{input}}\n",
    "\n",
    "<< OUTPUT (remember to include the ```json)>>\"\"\""
   ]
  },
  {
   "cell_type": "code",
   "execution_count": 76,
   "id": "1387109d",
   "metadata": {
    "execution": {
     "iopub.execute_input": "2024-10-20T23:04:17.809929Z",
     "iopub.status.busy": "2024-10-20T23:04:17.809622Z",
     "iopub.status.idle": "2024-10-20T23:04:17.817411Z",
     "shell.execute_reply": "2024-10-20T23:04:17.816094Z",
     "shell.execute_reply.started": "2024-10-20T23:04:17.809904Z"
    }
   },
   "outputs": [],
   "source": [
    "from langchain_core.runnables import RunnableLambda, RunnablePassthrough\n",
    "\n",
    "router_template = MULTI_PROMPT_ROUTER_TEMPLATE.format(\n",
    "    destinations=destinations_str\n",
    ")\n",
    "\n",
    "router_prompt = PromptTemplate(\n",
    "    template=router_template,\n",
    "    input_variables=[\"input\"],\n",
    "    output_parser=RouterOutputParser(),\n",
    ")\n",
    "\n",
    "router_chain = router_prompt | llm | RunnableLambda(lambda x: x.content)\n",
    "\n",
    "chain = (\n",
    "    RunnablePassthrough()\n",
    "    | {\n",
    "        \"input\": RunnablePassthrough(),\n",
    "        \"chosen_prompt\": router_chain,\n",
    "    }\n",
    "    | RunnableLambda(lambda x: prompt_templates[x[\"chosen_prompt\"]].format(input=x[\"input\"]))\n",
    "    | llm\n",
    ")\n",
    "\n"
   ]
  },
  {
   "cell_type": "code",
   "execution_count": 85,
   "id": "2fb7d560",
   "metadata": {
    "execution": {
     "iopub.execute_input": "2024-10-20T23:07:27.092866Z",
     "iopub.status.busy": "2024-10-20T23:07:27.091880Z",
     "iopub.status.idle": "2024-10-20T23:07:29.491987Z",
     "shell.execute_reply": "2024-10-20T23:07:29.491037Z",
     "shell.execute_reply.started": "2024-10-20T23:07:27.092826Z"
    }
   },
   "outputs": [],
   "source": [
    "response = chain.invoke(\"Explain what principle component analysis is using linear algebra\")\n"
   ]
  },
  {
   "cell_type": "code",
   "execution_count": 86,
   "id": "a4a021d0-8868-4c43-a6ed-f5f02c2810bf",
   "metadata": {
    "execution": {
     "iopub.execute_input": "2024-10-20T23:07:39.825638Z",
     "iopub.status.busy": "2024-10-20T23:07:39.825066Z",
     "iopub.status.idle": "2024-10-20T23:07:39.831769Z",
     "shell.execute_reply": "2024-10-20T23:07:39.830864Z",
     "shell.execute_reply.started": "2024-10-20T23:07:39.825611Z"
    }
   },
   "outputs": [
    {
     "data": {
      "text/plain": [
       "{'input': 'Explain what principle component analysis is using linear algebra',\n",
       " 'text': 'Principal Component Analysis (PCA) is a technique used in machine learning and data analysis to reduce the dimensionality of a dataset while preserving as much variance as possible. \\n\\nIn linear algebra terms, PCA involves finding the eigenvectors and eigenvalues of the covariance matrix of the dataset. The eigenvectors represent the directions of maximum variance in the data, while the eigenvalues represent the amount of variance along each eigenvector.\\n\\nTo perform PCA, we first center the data by subtracting the mean of each feature from the data points. Then, we calculate the covariance matrix of the centered data. Next, we find the eigenvectors and eigenvalues of the covariance matrix. \\n\\nThe eigenvectors form a new basis for the data, where the first eigenvector corresponds to the direction of maximum variance, the second eigenvector corresponds to the direction of second maximum variance, and so on. The eigenvalues represent the amount of variance explained by each eigenvector.\\n\\nBy projecting the data onto the eigenvectors with the highest eigenvalues, we can reduce the dimensionality of the dataset while retaining as much variance as possible. This allows us to visualize and analyze the data in a more efficient way.'}"
      ]
     },
     "execution_count": 86,
     "metadata": {},
     "output_type": "execute_result"
    }
   ],
   "source": [
    "response"
   ]
  },
  {
   "cell_type": "code",
   "execution_count": 87,
   "id": "d86b2131",
   "metadata": {
    "execution": {
     "iopub.execute_input": "2024-10-20T23:07:59.438427Z",
     "iopub.status.busy": "2024-10-20T23:07:59.437798Z",
     "iopub.status.idle": "2024-10-20T23:08:01.758849Z",
     "shell.execute_reply": "2024-10-20T23:08:01.757761Z",
     "shell.execute_reply.started": "2024-10-20T23:07:59.438401Z"
    }
   },
   "outputs": [
    {
     "data": {
      "text/plain": [
       "{'input': 'What is black body radiation?',\n",
       " 'text': \"Black body radiation refers to the electromagnetic radiation emitted by a perfect black body, which is an idealized physical body that absorbs all incident electromagnetic radiation. A black body absorbs all radiation that falls on it, with none being reflected or transmitted. \\n\\nThe radiation emitted by a black body is characterized by its intensity and spectral distribution, which is determined solely by its temperature. As the temperature of a black body increases, the intensity of the radiation it emits also increases, and the peak wavelength of the radiation shifts to shorter wavelengths.\\n\\nThis phenomenon is described by Planck's law of black body radiation, which states that the spectral radiance of a black body at a given wavelength and temperature is proportional to the frequency of the radiation and follows a specific distribution known as the Planck distribution.\\n\\nBlack body radiation plays a crucial role in various fields of physics, including thermodynamics, quantum mechanics, and astrophysics. It is also important in the development of technologies such as incandescent light bulbs, infrared sensors, and thermal imaging devices.\"}"
      ]
     },
     "execution_count": 87,
     "metadata": {},
     "output_type": "execute_result"
    }
   ],
   "source": [
    "chain.invoke(\"What is black body radiation?\")"
   ]
  },
  {
   "cell_type": "code",
   "execution_count": 89,
   "id": "3b717379",
   "metadata": {
    "execution": {
     "iopub.execute_input": "2024-10-20T23:08:08.027664Z",
     "iopub.status.busy": "2024-10-20T23:08:08.026993Z",
     "iopub.status.idle": "2024-10-20T23:08:08.337357Z",
     "shell.execute_reply": "2024-10-20T23:08:08.336563Z",
     "shell.execute_reply.started": "2024-10-20T23:08:08.027639Z"
    }
   },
   "outputs": [
    {
     "data": {
      "text/plain": [
       "{'input': 'what is 2 + 2', 'text': 'The answer to 2 + 2 is 4.'}"
      ]
     },
     "execution_count": 89,
     "metadata": {},
     "output_type": "execute_result"
    }
   ],
   "source": [
    "chain.invoke(\"what is 2 + 2\")"
   ]
  },
  {
   "cell_type": "code",
   "execution_count": null,
   "id": "29e5be01",
   "metadata": {},
   "outputs": [],
   "source": [
    "chain.run(\"Why does every cell in our body contain DNA?\")"
   ]
  },
  {
   "cell_type": "markdown",
   "id": "09e0c60b-7ae0-453e-9467-142d8dafee6e",
   "metadata": {},
   "source": [
    "**Repeat the above at least once for different inputs and chains executions - Be creative!**"
   ]
  }
 ],
 "metadata": {
  "kernelspec": {
   "display_name": "Python 3",
   "language": "python",
   "name": "python3"
  },
  "language_info": {
   "codemirror_mode": {
    "name": "ipython",
    "version": 3
   },
   "file_extension": ".py",
   "mimetype": "text/x-python",
   "name": "python",
   "nbconvert_exporter": "python",
   "pygments_lexer": "ipython3",
   "version": "3.12.7"
  }
 },
 "nbformat": 4,
 "nbformat_minor": 5
}
